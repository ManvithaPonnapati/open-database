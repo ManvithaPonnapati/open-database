{
 "cells": [
  {
   "cell_type": "code",
   "execution_count": 8,
   "metadata": {},
   "outputs": [
    {
     "name": "stdout",
     "output_type": "stream",
     "text": [
      "<module 're' from '/home/maksym/anaconda2/lib/python2.7/re.pyc'>\n",
      "<function compile at 0x7f5a5e826ed8>\n"
     ]
    }
   ],
   "source": [
    "import imp\n",
    "import sys\n",
    "\n",
    "\n",
    "name = \"re\"\n",
    "fp, pathname, description = imp.find_module(name)\n",
    "mymod = imp.load_module(name, fp, pathname, description)\n",
    "fp.close()\n",
    "\n",
    "\n",
    "print mymod\n",
    "print mymod.compile"
   ]
  },
  {
   "cell_type": "code",
   "execution_count": null,
   "metadata": {
    "collapsed": true
   },
   "outputs": [],
   "source": []
  }
 ],
 "metadata": {
  "kernelspec": {
   "display_name": "Python 2",
   "language": "python",
   "name": "python2"
  },
  "language_info": {
   "codemirror_mode": {
    "name": "ipython",
    "version": 2
   },
   "file_extension": ".py",
   "mimetype": "text/x-python",
   "name": "python",
   "nbconvert_exporter": "python",
   "pygments_lexer": "ipython2",
   "version": "2.7.13"
  }
 },
 "nbformat": 4,
 "nbformat_minor": 2
}
