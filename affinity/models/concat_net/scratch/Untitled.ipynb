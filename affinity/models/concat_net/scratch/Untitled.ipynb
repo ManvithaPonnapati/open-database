{
 "cells": [
  {
   "cell_type": "code",
   "execution_count": 12,
   "metadata": {},
   "outputs": [
    {
     "name": "stdout",
     "output_type": "stream",
     "text": [
      "['0.38386017', '0.48801613', '0.40769219', '0.53187156', '0.46027714', '0.5293234', '0.41722283', '0.48113996', '0.50594825', '0.48508587', '0.45149526', '0.47946522', '0.4056882', '0.46982589', '0.43407083', '0.56525481', '0.47945988', '0.41783005', '0.45009857', '0.53432786', '0.42554131', '0.45209882', '0.40535229', '0.48228836', '0.43317246', '0.41180667', '0.44023904', '0.42018437', '0.38647184', '0.41155839', '0.4088012', '0.46414238', '0.54391867', '0.33368272', '0.54354674', '0.43691048', '0.41953811', '0.42537498', '0.48499459', '0.44393638', '0.4066636', '0.48303813']\n",
      "[ 0.38386017  0.48801613  0.40769219  0.53187156  0.46027714  0.5293234\n",
      "  0.41722283  0.48113996  0.50594825  0.48508587  0.45149526  0.47946522\n",
      "  0.4056882   0.46982589  0.43407083  0.56525481  0.47945988  0.41783005\n",
      "  0.45009857  0.53432786  0.42554131  0.45209882  0.40535229  0.48228836\n",
      "  0.43317246  0.41180667  0.44023904  0.42018437  0.38647184  0.41155839\n",
      "  0.4088012   0.46414238  0.54391867  0.33368272  0.54354674  0.43691048\n",
      "  0.41953811  0.42537498  0.48499459  0.44393638  0.4066636   0.48303813]\n",
      "average cross entropy: 0.453362\n",
      "sandard dev cross entropy: 0.0495775\n"
     ]
    }
   ],
   "source": [
    "import numpy as np\n",
    "cross_entropies = []\n",
    "with open(\"v12_log2\") as f:\n",
    "    log = f.readlines()\n",
    "    for line in log:\n",
    "        if line.startswith(\"[\"):\n",
    "            cross_entropy = line.split(\",\")[0].strip(\"[\")\n",
    "            cross_entropies.append(cross_entropy)\n",
    "\n",
    "print cross_entropies\n",
    "cross_entropies = np.asarray(cross_entropies,dtype=np.float32)\n",
    "print cross_entropies\n",
    "print \"average cross entropy:\", np.mean(cross_entropies)\n",
    "print \"sandard dev cross entropy:\", np.std(cross_entropies)\n",
    "            "
   ]
  },
  {
   "cell_type": "code",
   "execution_count": null,
   "metadata": {
    "collapsed": true
   },
   "outputs": [],
   "source": []
  },
  {
   "cell_type": "code",
   "execution_count": null,
   "metadata": {
    "collapsed": true
   },
   "outputs": [],
   "source": []
  }
 ],
 "metadata": {
  "kernelspec": {
   "display_name": "Python 2",
   "language": "python",
   "name": "python2"
  },
  "language_info": {
   "codemirror_mode": {
    "name": "ipython",
    "version": 2
   },
   "file_extension": ".py",
   "mimetype": "text/x-python",
   "name": "python",
   "nbconvert_exporter": "python",
   "pygments_lexer": "ipython2",
   "version": "2.7.13"
  }
 },
 "nbformat": 4,
 "nbformat_minor": 2
}
