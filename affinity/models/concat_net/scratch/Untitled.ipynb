{
 "cells": [
  {
   "cell_type": "code",
   "execution_count": 62,
   "metadata": {},
   "outputs": [
    {
     "name": "stdout",
     "output_type": "stream",
     "text": [
      "no drop ave: 0.0541315 std: 0.0279311\n",
      "dropout ave: 0.0997609 std: 0.0530068\n"
     ]
    }
   ],
   "source": [
    "import numpy as np\n",
    "import re\n",
    "no_drop_ces = []\n",
    "drop_ces = []\n",
    "with open(\"v16_log\") as f:\n",
    "    log = f.readlines()\n",
    "    for line in log:\n",
    "        #print line\n",
    "        if re.match(\".*no dropout.*\",line):\n",
    "            no_drop_ce = line.split(\" \")[5].strip(\"\\n\").strip(\"[\").strip(\"]\")\n",
    "            no_drop_ces.append(no_drop_ce)\n",
    "     \n",
    "        if re.match(\".* exps: .*\",line):\n",
    "            drop_ce = line.split(\" \")[3]\n",
    "            drop_ces.append(drop_ce)\n",
    "            \n",
    "\n",
    "            \n",
    "no_drop_ces = np.asarray(no_drop_ces,np.float32)\n",
    "drop_ces = np.asarray(drop_ces,np.float32)\n",
    "print \"no drop ave:\", np.average(no_drop_ces),\"std:\",np.std(no_drop_ces)\n",
    "print \"dropout ave:\", np.average(drop_ces),\"std:\",np.std(drop_ces)"
   ]
  },
  {
   "cell_type": "code",
   "execution_count": null,
   "metadata": {
    "collapsed": true
   },
   "outputs": [],
   "source": []
  }
 ],
 "metadata": {
  "kernelspec": {
   "display_name": "Python 2",
   "language": "python",
   "name": "python2"
  },
  "language_info": {
   "codemirror_mode": {
    "name": "ipython",
    "version": 2
   },
   "file_extension": ".py",
   "mimetype": "text/x-python",
   "name": "python",
   "nbconvert_exporter": "python",
   "pygments_lexer": "ipython2",
   "version": "2.7.13"
  }
 },
 "nbformat": 4,
 "nbformat_minor": 2
}
