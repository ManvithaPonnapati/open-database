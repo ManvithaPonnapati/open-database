{
 "cells": [
  {
   "cell_type": "code",
   "execution_count": 30,
   "metadata": {},
   "outputs": [
    {
     "name": "stdout",
     "output_type": "stream",
     "text": [
      "[ 0.47274518  0.48438683  0.4155826   0.49172497  0.50470805  0.5125308\n",
      "  0.44524911  0.49592626  0.39524901  0.49507868  0.43104869  0.36062658\n",
      "  0.4326207   0.41960242  0.29777843  0.53702301  0.4012149   0.39482173\n",
      "  0.39436108  0.60480338  0.46412975  0.50541949  0.54779249  0.60642987\n",
      "  0.49763742  0.46373332  0.48753875  0.53193986  0.36317003  0.53744686\n",
      "  0.37171805]\n",
      "average cross entropy: 0.463356\n",
      "sandard dev cross entropy: 0.0707476\n"
     ]
    }
   ],
   "source": [
    "import numpy as np\n",
    "cross_entropies = []\n",
    "with open(\"v6_log\") as f:\n",
    "    log = f.readlines()\n",
    "    for line in log:\n",
    "        if line.startswith(\"[\"):\n",
    "            cross_entropy = line.split(\",\")[0].strip(\"[\")\n",
    "            cross_entropies.append(cross_entropy)\n",
    "\n",
    "cross_entropies = np.asarray(cross_entropies,dtype=np.float32)\n",
    "print cross_entropies\n",
    "print \"average cross entropy:\", np.mean(cross_entropies)\n",
    "print \"sandard dev cross entropy:\", np.std(cross_entropies)\n",
    "            "
   ]
  },
  {
   "cell_type": "code",
   "execution_count": null,
   "metadata": {
    "collapsed": true
   },
   "outputs": [],
   "source": []
  }
 ],
 "metadata": {
  "kernelspec": {
   "display_name": "Python 2",
   "language": "python",
   "name": "python2"
  },
  "language_info": {
   "codemirror_mode": {
    "name": "ipython",
    "version": 2
   },
   "file_extension": ".py",
   "mimetype": "text/x-python",
   "name": "python",
   "nbconvert_exporter": "python",
   "pygments_lexer": "ipython2",
   "version": "2.7.13"
  }
 },
 "nbformat": 4,
 "nbformat_minor": 2
}
