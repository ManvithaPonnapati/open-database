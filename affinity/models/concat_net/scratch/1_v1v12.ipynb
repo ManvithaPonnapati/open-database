{
 "cells": [
  {
   "cell_type": "code",
   "execution_count": 1,
   "metadata": {},
   "outputs": [
    {
     "name": "stdout",
     "output_type": "stream",
     "text": [
      "['0.026574172', '0.0087231006', '0.050434507', '0.020629216', '0.0094457259', '0.0058504515', '0.065044597', '0.077695966', '0.0082347188', '0.010370594', '0.010383923', '0.0062780948', '0.030630393', '0.003849786', '0.068548232', '0.081007786', '0.046399884', '0.034435064', '0.0090507343', '0.0082623689', '0.021952476', '0.014798579', '0.015334379', '0.098777317', '0.011749503', '0.039884381', '0.023443816', '0.024645718', '0.046617512', '0.016046716', '0.04338992', '0.012238035', '0.0058623995', '0.01986656', '0.058113471', '0.032358393', '0.028629176', '0.016755564', '0.0098441401', '0.030403996', '0.00984417', '0.015620392', '0.086062662', '0.0041650259', '0.0042183967', '0.0043361993', '0.0049716886', '0.0040654191', '0.0064039207']\n",
      "[ 0.02657417  0.0087231   0.05043451  0.02062922  0.00944573  0.00585045\n",
      "  0.0650446   0.07769597  0.00823472  0.01037059  0.01038392  0.00627809\n",
      "  0.03063039  0.00384979  0.06854823  0.08100779  0.04639988  0.03443506\n",
      "  0.00905073  0.00826237  0.02195248  0.01479858  0.01533438  0.09877732\n",
      "  0.0117495   0.03988438  0.02344382  0.02464572  0.04661751  0.01604672\n",
      "  0.04338992  0.01223803  0.0058624   0.01986656  0.05811347  0.03235839\n",
      "  0.02862918  0.01675556  0.00984414  0.030404    0.00984417  0.01562039\n",
      "  0.08606266  0.00416503  0.0042184   0.0043362   0.00497169  0.00406542\n",
      "  0.00640392]\n",
      "average cross entropy: 0.0263724\n",
      "sandard dev cross entropy: 0.0243232\n"
     ]
    }
   ],
   "source": [
    "import numpy as np\n",
    "cross_entropies = []\n",
    "with open(\"v10_log\") as f:\n",
    "    log = f.readlines()\n",
    "    for line in log:\n",
    "        if line.startswith(\"[\"):\n",
    "            cross_entropy = line.split(\",\")[0].strip(\"[\")\n",
    "            cross_entropies.append(cross_entropy)\n",
    "\n",
    "print cross_entropies\n",
    "cross_entropies = np.asarray(cross_entropies,dtype=np.float32)\n",
    "print cross_entropies\n",
    "print \"average cross entropy:\", np.mean(cross_entropies)\n",
    "print \"sandard dev cross entropy:\", np.std(cross_entropies)\n",
    "            "
   ]
  },
  {
   "cell_type": "code",
   "execution_count": null,
   "metadata": {
    "collapsed": true
   },
   "outputs": [],
   "source": []
  },
  {
   "cell_type": "code",
   "execution_count": null,
   "metadata": {
    "collapsed": true
   },
   "outputs": [],
   "source": []
  }
 ],
 "metadata": {
  "kernelspec": {
   "display_name": "Python 2",
   "language": "python",
   "name": "python2"
  },
  "language_info": {
   "codemirror_mode": {
    "name": "ipython",
    "version": 2
   },
   "file_extension": ".py",
   "mimetype": "text/x-python",
   "name": "python",
   "nbconvert_exporter": "python",
   "pygments_lexer": "ipython2",
   "version": "2.7.13"
  }
 },
 "nbformat": 4,
 "nbformat_minor": 2
}
