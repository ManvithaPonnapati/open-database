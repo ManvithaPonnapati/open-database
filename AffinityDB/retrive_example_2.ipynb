{
 "cells": [
  {
   "cell_type": "code",
   "execution_count": 2,
   "metadata": {
    "collapsed": false
   },
   "outputs": [
    {
     "name": "stdout",
     "output_type": "stream",
     "text": [
      "connect to /home/xander/affinityDB/test_t/affinity.db\n"
     ]
    }
   ],
   "source": [
    "from retrive import retrive_data"
   ]
  },
  {
   "cell_type": "markdown",
   "metadata": {},
   "source": [
    "## example 2\n",
    "This example shows how to combine select result from different creterion\n",
    "\n",
    "- create the data retrive class\n",
    "- load basic info about the data like the ligand and receptor we have from database\n",
    "- to set up different creterion, get the copy from the former class, then load info and apply different restriction\n",
    "- merge the selected result\n",
    "- export the selected result as pandas.DataFrame"
   ]
  },
  {
   "cell_type": "code",
   "execution_count": 3,
   "metadata": {
    "collapsed": false
   },
   "outputs": [],
   "source": [
    "r = retrive_data()"
   ]
  },
  {
   "cell_type": "markdown",
   "metadata": {},
   "source": [
    "## Set data info\n",
    "- load splited receptor info from table 2\n",
    "- load reordered ligand info from table 3\n",
    "- load docked ligand info from table 4\n",
    "- load binding affinity info from table 5"
   ]
  },
  {
   "cell_type": "code",
   "execution_count": 4,
   "metadata": {
    "collapsed": false
   },
   "outputs": [],
   "source": [
    "rb = r.receptor(2).crystal(3).docked(4).norm_affinity(9,None)"
   ]
  },
  {
   "cell_type": "markdown",
   "metadata": {},
   "source": [
    "### Creterion 1\n",
    "- create a copy with the same configuration as the original class\n",
    "- load overlap info from table 7\n",
    "- select docking result with overlap ratio smaller than 0.5"
   ]
  },
  {
   "cell_type": "code",
   "execution_count": 5,
   "metadata": {
    "collapsed": true
   },
   "outputs": [],
   "source": [
    " rc = rb.same().overlap(7, [None,0.5])"
   ]
  },
  {
   "cell_type": "markdown",
   "metadata": {},
   "source": [
    "### Creterion 2\n",
    "- load overlap info from table 7\n",
    "- select docking result with overlap ratio larger than 0.5\n",
    "- load rmsd info from table 6\n",
    "- select docking result with rmsd smaller than 2"
   ]
  },
  {
   "cell_type": "code",
   "execution_count": 6,
   "metadata": {
    "collapsed": true
   },
   "outputs": [],
   "source": [
    "rd = rb.same().overlap(7,(0.5,None)).rmsd(6,[None,2])"
   ]
  },
  {
   "cell_type": "markdown",
   "metadata": {},
   "source": [
    "### Combine result\n",
    "Merge two selected results above"
   ]
  },
  {
   "cell_type": "code",
   "execution_count": 7,
   "metadata": {
    "collapsed": true
   },
   "outputs": [],
   "source": [
    "re = rc | rd "
   ]
  },
  {
   "cell_type": "markdown",
   "metadata": {},
   "source": [
    "### Export result"
   ]
  },
  {
   "cell_type": "code",
   "execution_count": 8,
   "metadata": {
    "collapsed": true
   },
   "outputs": [],
   "source": [
    "table = re.export_table()"
   ]
  },
  {
   "cell_type": "code",
   "execution_count": 9,
   "metadata": {
    "collapsed": false
   },
   "outputs": [
    {
     "data": {
      "text/html": [
       "<div>\n",
       "<table border=\"1\" class=\"dataframe\">\n",
       "  <thead>\n",
       "    <tr style=\"text-align: right;\">\n",
       "      <th></th>\n",
       "      <th>receptor</th>\n",
       "      <th>chain</th>\n",
       "      <th>resnum</th>\n",
       "      <th>resname</th>\n",
       "      <th>norm_affinity</th>\n",
       "      <th>position</th>\n",
       "      <th>overlap_ratio</th>\n",
       "      <th>rmsd</th>\n",
       "    </tr>\n",
       "  </thead>\n",
       "  <tbody>\n",
       "    <tr>\n",
       "      <th>0</th>\n",
       "      <td>2AVI</td>\n",
       "      <td>A</td>\n",
       "      <td>150</td>\n",
       "      <td>BTN</td>\n",
       "      <td>0.154342</td>\n",
       "      <td>1</td>\n",
       "      <td>1.0</td>\n",
       "      <td>1.586146</td>\n",
       "    </tr>\n",
       "  </tbody>\n",
       "</table>\n",
       "</div>"
      ],
      "text/plain": [
       "  receptor chain resnum resname  norm_affinity  position  overlap_ratio  \\\n",
       "0     2AVI     A    150     BTN       0.154342         1            1.0   \n",
       "\n",
       "       rmsd  \n",
       "0  1.586146  "
      ]
     },
     "execution_count": 9,
     "metadata": {},
     "output_type": "execute_result"
    }
   ],
   "source": [
    "table"
   ]
  },
  {
   "cell_type": "code",
   "execution_count": null,
   "metadata": {
    "collapsed": true
   },
   "outputs": [],
   "source": []
  }
 ],
 "metadata": {
  "kernelspec": {
   "display_name": "Python 2",
   "language": "python",
   "name": "python2"
  },
  "language_info": {
   "codemirror_mode": {
    "name": "ipython",
    "version": 2
   },
   "file_extension": ".py",
   "mimetype": "text/x-python",
   "name": "python",
   "nbconvert_exporter": "python",
   "pygments_lexer": "ipython2",
   "version": "2.7.13"
  }
 },
 "nbformat": 4,
 "nbformat_minor": 2
}
